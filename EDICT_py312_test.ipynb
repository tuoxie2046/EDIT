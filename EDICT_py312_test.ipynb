{
 "cells": [
  {
   "cell_type": "markdown",
   "metadata": {},
   "source": [
    "# EDICT: Exact Diffusion Inversion via Coupled Transformations\n",
    "## Python 3.12 Compatible Version\n",
    "\n",
    "This notebook demonstrates the updated EDICT implementation compatible with Python 3.12 and modern PyTorch/Transformers libraries."
   ]
  },
  {
   "cell_type": "markdown",
   "metadata": {},
   "source": [
    "## Setup and Imports"
   ]
  },
  {
   "cell_type": "code",
   "execution_count": null,
   "metadata": {},
   "outputs": [],
   "source": [
    "# Check Python version\n",
    "import sys\n",
    "print(f\"Python version: {sys.version}\")\n",
    "\n",
    "# Check if we're using Python 3.12+\n",
    "if sys.version_info.major == 3 and sys.version_info.minor >= 12:\n",
    "    print(\"✓ Using Python 3.12+ - optimal compatibility\")\n",
    "else:\n",
    "    print(\"⚠️ Not using Python 3.12+ - some features may not work optimally\")"
   ]
  },
  {
   "cell_type": "code",
   "execution_count": null,
   "metadata": {},
   "outputs": [],
   "source": [
    "# Import the updated EDICT functions\n",
    "try:\n",
    "    from edict_functions_py312 import *\n",
    "    print(\"✓ Successfully imported updated EDICT functions\")\n",
    "except ImportError as e:\n",
    "    print(f\"❌ Failed to import updated functions: {e}\")\n",
    "    print(\"Trying to import original functions...\")\n",
    "    try:\n",
    "        from edict_functions import *\n",
    "        print(\"✓ Imported original EDICT functions\")\n",
    "    except ImportError as e2:\n",
    "        print(f\"❌ Failed to import original functions: {e2}\")\n",
    "        raise"
   ]
  },
  {
   "cell_type": "code",
   "execution_count": null,
   "metadata": {},
   "outputs": [],
   "source": [
    "# Check system capabilities\n",
    "import torch\n",
    "print(f\"PyTorch version: {torch.__version__}\")\n",
    "print(f\"CUDA available: {torch.cuda.is_available()}\")\n",
    "if torch.cuda.is_available():\n",
    "    print(f\"CUDA device: {torch.cuda.get_device_name(0)}\")\n",
    "    print(f\"CUDA version: {torch.version.cuda}\")\n",
    "else:\n",
    "    print(\"⚠️ CUDA not available - using CPU (will be much slower)\")"
   ]
  },
  {
   "cell_type": "markdown",
   "metadata": {},
   "source": [
    "## Test Basic Functionality"
   ]
  },
  {
   "cell_type": "code",
   "execution_count": null,
   "metadata": {},
   "outputs": [],
   "source": [
    "# Test image loading function\n",
    "import os\n",
    "from PIL import Image\n",
    "import matplotlib.pyplot as plt\n",
    "\n",
    "# List available test images\n",
    "image_dir = \"experiment_images\"\n",
    "if os.path.exists(image_dir):\n",
    "    images = [f for f in os.listdir(image_dir) if f.lower().endswith(('.jpg', '.jpeg', '.png'))]\n",
    "    print(f\"Available test images: {images[:5]}...\")  # Show first 5\n",
    "else:\n",
    "    print(\"⚠️ experiment_images directory not found\")\n",
    "    images = []"
   ]
  },
  {
   "cell_type": "code",
   "execution_count": null,
   "metadata": {},
   "outputs": [],
   "source": [
    "# Test with a sample image if available\n",
    "if images:\n",
    "    test_image_path = os.path.join(image_dir, images[0])\n",
    "    print(f\"Testing with: {test_image_path}\")\n",
    "    \n",
    "    # Load and display the image\n",
    "    try:\n",
    "        test_image = Image.open(test_image_path)\n",
    "        plt.figure(figsize=(8, 6))\n",
    "        plt.imshow(test_image)\n",
    "        plt.title(f\"Test Image: {images[0]}\")\n",
    "        plt.axis('off')\n",
    "        plt.show()\n",
    "        \n",
    "        print(f\"✓ Successfully loaded image: {test_image.size}\")\n",
    "    except Exception as e:\n",
    "        print(f\"❌ Failed to load test image: {e}\")\nelse:\n",
    "    print(\"No test images available - you can add images to the experiment_images folder\")"
   ]
  },
  {
   "cell_type": "markdown",
   "metadata": {},
   "source": [
    "## EDICT Editing Example\n",
    "\n",
    "This section demonstrates how to use EDICT for image editing with the updated Python 3.12 compatible code."
   ]
  },
  {
   "cell_type": "code",
   "execution_count": null,
   "metadata": {},
   "outputs": [],
   "source": [
    "# Example EDICT editing (if models are loaded successfully)\n",
    "if images and 'EDICT_editing' in globals():\n",
    "    try:\n",
    "        # Define prompts\n",
    "        base_prompt = \"a photo of a dog\"\n",
    "        edit_prompt = \"a photo of a cat\"\n",
    "        \n",
    "        print(f\"Running EDICT editing...\")\n",
    "        print(f\"Base prompt: {base_prompt}\")\n",
    "        print(f\"Edit prompt: {edit_prompt}\")\n",
    "        \n",
    "        # Run EDICT editing\n",
    "        edited_image, original_recon = EDICT_editing(\n",
    "            test_image_path,\n",
    "            base_prompt=base_prompt,\n",
    "            edit_prompt=edit_prompt,\n",
    "            steps=20,  # Reduced steps for faster testing\n",
    "            mix_weight=0.93,\n",
    "            init_image_strength=0.8,\n",
    "            guidance_scale=3,\n",
    "            run_baseline=True  # Use EDICT (not DDIM baseline)\n",
    "        )\n",
    "        \n",
    "        # Display results\n",
    "        fig, axes = plt.subplots(1, 3, figsize=(15, 5))\n",
    "        \n",
    "        axes[0].imshow(test_image)\n",
    "        axes[0].set_title(\"Original Image\")\n",
    "        axes[0].axis('off')\n",
    "        \n",
    "        axes[1].imshow(edited_image)\n",
    "        axes[1].set_title(f\"Edited: {edit_prompt}\")\n",
    "        axes[1].axis('off')\n",
    "        \n",
    "        axes[2].imshow(original_recon)\n",
    "        axes[2].set_title(\"Reconstructed Original\")\n",
    "        axes[2].axis('off')\n",
    "        \n",
    "        plt.tight_layout()\n",
    "        plt.show()\n",
    "        \n",
    "        print(\"✓ EDICT editing completed successfully!\")\n",
    "        \n",
    "    except Exception as e:\n",
    "        print(f\"❌ EDICT editing failed: {e}\")\n",
    "        import traceback\n",
    "        traceback.print_exc()\nelse:\n",
    "    print(\"⚠️ Skipping EDICT editing test - models not loaded or no test images\")"
   ]
  },
  {
   "cell_type": "markdown",
   "metadata": {},
   "source": [
    "## Performance and Compatibility Notes\n",
    "\n",
    "### Python 3.12 Updates Made:\n",
    "1. **Updated imports**: Fixed deprecated imports and added compatibility shims\n",
    "2. **Modern PyTorch**: Updated autocast usage for newer PyTorch versions\n",
    "3. **Transformers compatibility**: Updated parameter names (use_auth_token → token)\n",
    "4. **Type hints**: Added proper type annotations for better code clarity\n",
    "5. **Error handling**: Improved error handling and fallback mechanisms\n",
    "6. **PIL updates**: Updated deprecated PIL resampling methods\n",
    "\n",
    "### Performance Considerations:\n",
    "- **CUDA**: Strongly recommended for reasonable performance\n",
    "- **Memory**: The double precision mode requires significant GPU memory\n",
    "- **Steps**: Reduce steps for faster testing, increase for better quality\n",
    "\n",
    "### Troubleshooting:\n",
    "- If models fail to load, check your HuggingFace token in the `hf_auth` file\n",
    "- For CUDA issues, ensure you have compatible PyTorch and CUDA versions\n",
    "- For memory issues, try reducing image resolution or using mixed precision"
   ]
  },
  {
   "cell_type": "code",
   "execution_count": null,
   "metadata": {},
   "outputs": [],
   "source": [
    "# System information summary\n",
    "print(\"=\" * 50)\n",
    "print(\"SYSTEM INFORMATION SUMMARY\")\n",
    "print(\"=\" * 50)\n",
    "print(f\"Python: {sys.version}\")\n",
    "print(f\"PyTorch: {torch.__version__}\")\n",
    "print(f\"CUDA Available: {torch.cuda.is_available()}\")\n",
    "if torch.cuda.is_available():\n",
    "    print(f\"GPU: {torch.cuda.get_device_name(0)}\")\n",
    "    print(f\"GPU Memory: {torch.cuda.get_device_properties(0).total_memory / 1e9:.1f} GB\")\n",
    "\n",
    "# Check key libraries\n",
    "try:\n",
    "    import transformers\n",
    "    print(f\"Transformers: {transformers.__version__}\")\nexcept ImportError:\n",
    "    print(\"Transformers: Not installed\")\n",
    "\n",
    "try:\n",
    "    import diffusers\n",
    "    print(f\"Diffusers: {diffusers.__version__}\")\nexcept ImportError:\n",
    "    print(\"Diffusers: Not installed\")\n",
    "\n",
    "print(\"=\" * 50)"
   ]
  }
 ],
 "metadata": {
  "kernelspec": {
   "display_name": "Python 3",
   "language": "python",
   "name": "python3"
  },
  "language_info": {
   "codemirror_mode": {
    "name": "ipython",
    "version": 3
   },
   "file_extension": ".py",
   "mimetype": "text/x-python",
   "name": "python",
   "nbconvert_exporter": "python",
   "version": "3.12.0"
  }
 },
 "nbformat": 4,
 "nbformat_minor": 4
}
